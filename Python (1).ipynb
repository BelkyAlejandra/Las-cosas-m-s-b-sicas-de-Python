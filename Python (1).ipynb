{
 "cells": [
  {
   "cell_type": "markdown",
   "id": "a7beefe4",
   "metadata": {},
   "source": [
    "# ESTO ES UN REPASO DE PYTHON\n",
    "\n",
    "En este repaso, planeo escribir las cosas más básicas y cada una de ellas va a tener su respectivo ejemplo. La documentación es [esta](https://docs.python.org/3.8/)."
   ]
  },
  {
   "cell_type": "markdown",
   "id": "cf651ab6",
   "metadata": {},
   "source": [
    "Dentro de las funciones por defecto que tiene Python, están:\n",
    "\n",
    "* **Print():** se usa para mostrar en pantalla lo que haya en su interior\n",
    "\n",
    "* **input():** lo que hace es leer una respuesta\n",
    "\n",
    "* **type():** muestra el tipo de dato que corresponde a su argumento\n",
    "\n",
    "* **len():** da la cantidad de elementos de su argumento\n",
    "* **help():** da información del elemento que se posicione dentro de su argumento"
   ]
  },
  {
   "cell_type": "markdown",
   "id": "b6baff67",
   "metadata": {},
   "source": [
    "# Tipos de datos"
   ]
  },
  {
   "cell_type": "markdown",
   "id": "212bbc01",
   "metadata": {},
   "source": [
    "Los principales tipos de datos en Python son:\n",
    "    números enteros, números decimales, cadenas te texto, diccionarios, listas, tuplas, sets y booleanos.\n",
    "    \n",
    "Los números enteros (int), son números que no poseen decimales. Mientras que los flotantes (float) sí. "
   ]
  },
  {
   "cell_type": "markdown",
   "id": "afe4eb1b",
   "metadata": {},
   "source": [
    "# *CADENAS DE TEXTO (str)*"
   ]
  },
  {
   "cell_type": "markdown",
   "id": "6c633025",
   "metadata": {},
   "source": [
    "La cadena de texto (str), se caracteriza cuando a algún elemento se encierra con comillas ('').\n",
    "\n",
    "Ejemplos de cadenas de texto:"
   ]
  },
  {
   "cell_type": "code",
   "execution_count": 9,
   "id": "59ef536e",
   "metadata": {},
   "outputs": [
    {
     "name": "stdout",
     "output_type": "stream",
     "text": [
      "Hola, este es un texto\n"
     ]
    }
   ],
   "source": [
    "print('Hola, este es un texto')"
   ]
  },
  {
   "cell_type": "code",
   "execution_count": 10,
   "id": "5cef6da0",
   "metadata": {},
   "outputs": [
    {
     "name": "stdout",
     "output_type": "stream",
     "text": [
      "Hola, el texto también puede ser un número. El texto es 2021\n"
     ]
    }
   ],
   "source": [
    "a='Hola, el texto también puede ser un número. El texto es 2021'\n",
    "print(a)"
   ]
  },
  {
   "cell_type": "markdown",
   "id": "dbfad0a8",
   "metadata": {},
   "source": [
    "Es importante saber que un caracter es un solo elemento, entonces la palabra 'CASA' es una *Cadena de Caracteres* de longitud 4. Mientras que la palabra 'A', es un solo caracter. También, cada cadena de caracteres tiene una *INDEXACIÓN*.\n",
    "\n",
    "*¿QUÉ ES LA INDEXACIÓN?:* es el número que le corresponde a la fila en la que está. La etiqueta que se le asigna dentro del grupo en el que se encuentra. En Python, el conteo de la indexación comienza siempre desde cero. \n",
    "\n",
    "*¿Cómo conocer la indexación de un elemento en una cadena de caracteres?*:"
   ]
  },
  {
   "cell_type": "code",
   "execution_count": 12,
   "id": "aa0d857c",
   "metadata": {},
   "outputs": [
    {
     "name": "stdout",
     "output_type": "stream",
     "text": [
      "E e a\n"
     ]
    }
   ],
   "source": [
    "cadena='Esta es una cadena de caracteres' #Primero se crea la cadena, agregando entre comillas los elementos deseados.\n",
    "print(cadena[0], cadena[5], cadena[10]) #aquí quiero ver cuál elemento de la cadena de caracteres 'cadena'\n",
    "                                        #corresponde al índice 0, 5, 10"
   ]
  },
  {
   "cell_type": "markdown",
   "id": "86179ec9",
   "metadata": {},
   "source": [
    "Entonces, para responder la última pregunta: para conocer cuál índice está asociado a un elemento lo que se hace es seguido del nombre de la cadena en cuestión poner el símbolo [], y dentro de ese símbolo colocar el índice en cuestión. También existe el índice inverso. En donde al último término le corresponde el -1, al penúltimo el -2. Y Así: "
   ]
  },
  {
   "cell_type": "code",
   "execution_count": 22,
   "id": "c816c6af",
   "metadata": {},
   "outputs": [
    {
     "name": "stdout",
     "output_type": "stream",
     "text": [
      "a f f\n"
     ]
    }
   ],
   "source": [
    "c='fruta'\n",
    "print(c[-1], c[0], c[-5]) #El primer elemento puede ser el número más alto del conteo inverso, ó el número cero."
   ]
  },
  {
   "cell_type": "markdown",
   "id": "01151a33",
   "metadata": {},
   "source": [
    "También las cadenas de texto cuentan con *SLICING*. Esto es, fraccionar nuestra cadena de texto una cierta cantidad que deseamos. Es como cortar por tajadas. \n",
    "\n",
    "Ejemplo de slicing:"
   ]
  },
  {
   "cell_type": "code",
   "execution_count": 26,
   "id": "db8d1f49",
   "metadata": {},
   "outputs": [
    {
     "name": "stdout",
     "output_type": "stream",
     "text": [
      "Este será\n",
      "Et eá\n"
     ]
    }
   ],
   "source": [
    "c='Este será una cadena de texto muy larga'\n",
    "print(c[0:9:1]) # [comienzo:Final:Paso]; Para el Final, es exclusive. \n",
    "                # Lo que significa que no se toma el elemento 9, sino el anterior.\n",
    "print(c[0:9:2]) # se puede escribir [:m] ó [n:] por defecto: Comienzo:0; Final: último; Step: 1"
   ]
  },
  {
   "cell_type": "markdown",
   "id": "9ebf30a5",
   "metadata": {},
   "source": [
    "A modo de comentario también se puede escribir así:"
   ]
  },
  {
   "cell_type": "code",
   "execution_count": 36,
   "id": "1fd9cc03",
   "metadata": {},
   "outputs": [
    {
     "name": "stdout",
     "output_type": "stream",
     "text": [
      "Hola \n",
      "inmundo \n",
      "\n",
      "animal\n"
     ]
    }
   ],
   "source": [
    "print('Hola \\ninmundo \\n\\nanimal')"
   ]
  },
  {
   "cell_type": "markdown",
   "id": "91665466",
   "metadata": {},
   "source": [
    "### ¿Operaciones con cadenas de texto?"
   ]
  },
  {
   "cell_type": "markdown",
   "id": "894458ad",
   "metadata": {},
   "source": [
    "**Las cadenas de texto son inmutables** esto quiere decir que NO puedo cambiarlas:"
   ]
  },
  {
   "cell_type": "code",
   "execution_count": 38,
   "id": "8f9cb664",
   "metadata": {},
   "outputs": [
    {
     "ename": "NameError",
     "evalue": "name 'M' is not defined",
     "output_type": "error",
     "traceback": [
      "\u001b[1;31m---------------------------------------------------------------------------\u001b[0m",
      "\u001b[1;31mNameError\u001b[0m                                 Traceback (most recent call last)",
      "\u001b[1;32m<ipython-input-38-25cfe7ac0d8a>\u001b[0m in \u001b[0;36m<module>\u001b[1;34m\u001b[0m\n\u001b[0;32m      1\u001b[0m \u001b[0mtex\u001b[0m\u001b[1;33m=\u001b[0m\u001b[1;34m'Hola'\u001b[0m\u001b[1;33m\u001b[0m\u001b[1;33m\u001b[0m\u001b[0m\n\u001b[1;32m----> 2\u001b[1;33m \u001b[0mtex\u001b[0m\u001b[1;33m[\u001b[0m\u001b[0mH\u001b[0m\u001b[1;33m]\u001b[0m\u001b[1;33m=\u001b[0m\u001b[0mM\u001b[0m \u001b[1;31m#aquí estariamos cambiando el primer índice de la cadena de texto tex, por la letra M. Pero, sale un error.\u001b[0m\u001b[1;33m\u001b[0m\u001b[1;33m\u001b[0m\u001b[0m\n\u001b[0m\u001b[0;32m      3\u001b[0m         \u001b[1;31m# ese error es precisamente lo que nos dice que no se puede cambiar, modificar las cadenas de texto.\u001b[0m\u001b[1;33m\u001b[0m\u001b[1;33m\u001b[0m\u001b[1;33m\u001b[0m\u001b[0m\n",
      "\u001b[1;31mNameError\u001b[0m: name 'M' is not defined"
     ]
    }
   ],
   "source": [
    "tex='Hola'\n",
    "tex[H]=M #aquí estariamos cambiando el primer índice de la cadena de texto tex, por la letra M. Pero, sale un error. \n",
    "        # ese error es precisamente lo que nos dice que no se puede cambiar, modificar las cadenas de texto."
   ]
  },
  {
   "cell_type": "markdown",
   "id": "f82368c6",
   "metadata": {},
   "source": [
    "1. ¿Cómo soluciono el problema? sumando palabras, lo que se conoce como **CONCATENAR TEXTO**"
   ]
  },
  {
   "cell_type": "code",
   "execution_count": 43,
   "id": "2aabdb56",
   "metadata": {},
   "outputs": [
    {
     "name": "stdout",
     "output_type": "stream",
     "text": [
      "Mola\n",
      "Mola\n"
     ]
    }
   ],
   "source": [
    "print('M'+'ola') #Concatenar texto, lo que hace es sumar, unir los elementos como uno solo.\n",
    "tex='hola'\n",
    "print('M'+ tex[1:]) #Así es como se colucionaría el problema"
   ]
  },
  {
   "cell_type": "markdown",
   "id": "3abb0fa0",
   "metadata": {},
   "source": [
    "2. ¿se puede multiplicar palabras?"
   ]
  },
  {
   "cell_type": "code",
   "execution_count": 47,
   "id": "309c2538",
   "metadata": {},
   "outputs": [
    {
     "name": "stdout",
     "output_type": "stream",
     "text": [
      "HolaHolaHolaHolaHola\n"
     ]
    }
   ],
   "source": [
    "print(5*'Hola')"
   ]
  },
  {
   "cell_type": "markdown",
   "id": "b339b509",
   "metadata": {},
   "source": [
    "## Métodos para los str"
   ]
  },
  {
   "cell_type": "markdown",
   "id": "c9b3a3bc",
   "metadata": {},
   "source": [
    "Uno puede convertir su cadena, con unas acciones que se llaman métodos. Por ejemplo:"
   ]
  },
  {
   "cell_type": "code",
   "execution_count": 49,
   "id": "0f5cc602",
   "metadata": {},
   "outputs": [
    {
     "name": "stdout",
     "output_type": "stream",
     "text": [
      "ESTE ES OTRO TEXTO\n"
     ]
    }
   ],
   "source": [
    "text='este es otro texto' #Puedo convertirlo en mayúsculas\n",
    "print(text.upper()) #esto se logra con el método .upper(). Se hace lo opuesto con .lower()"
   ]
  },
  {
   "cell_type": "code",
   "execution_count": 58,
   "id": "eae99de2",
   "metadata": {},
   "outputs": [
    {
     "name": "stdout",
     "output_type": "stream",
     "text": [
      "16\n"
     ]
    }
   ],
   "source": [
    "text='este es otro texto' #Quiero saber en qué posición está la palabra 'otro'\n",
    "print(text.find('otro'))  #Resulta que esa palabra comienza en la indexación 8"
   ]
  },
  {
   "cell_type": "code",
   "execution_count": 59,
   "id": "20ca1804",
   "metadata": {},
   "outputs": [
    {
     "name": "stdout",
     "output_type": "stream",
     "text": [
      "este NO es otro texto\n"
     ]
    }
   ],
   "source": [
    "text='este es otro texto' \n",
    "print(text.replace('este es', 'este NO es')) #reemplaza un elemento, por otro"
   ]
  },
  {
   "cell_type": "code",
   "execution_count": 4,
   "id": "a97cae25",
   "metadata": {},
   "outputs": [
    {
     "name": "stdout",
     "output_type": "stream",
     "text": [
      "['este', 'es', 'otro', 'texto']\n",
      "['', 'st', ' ', 's otro t', 'xto']\n"
     ]
    }
   ],
   "source": [
    "text='este es otro texto'\n",
    "print(text.split()) #aquí estoy separando la cadena por espacios (el espacio vacío es por efecto espacio), y convierte el\n",
    "                    #resultado en una lista\n",
    "print(text.split('e')) #aquí el separador es la letra e"
   ]
  },
  {
   "cell_type": "code",
   "execution_count": 16,
   "id": "f7c5e7b8",
   "metadata": {},
   "outputs": [
    {
     "name": "stdout",
     "output_type": "stream",
     "text": [
      "['este', 'es', 'otro texto']\n"
     ]
    }
   ],
   "source": [
    "text='este*es*otro texto'\n",
    "print(text.split('*')) #separando por asteriscos"
   ]
  },
  {
   "cell_type": "markdown",
   "id": "13995921",
   "metadata": {},
   "source": [
    "Algunos **Métodos de cadenas de texto** [se pueden encontrar aquí](https://www.w3schools.com/python/python_ref_string.asp)"
   ]
  },
  {
   "cell_type": "markdown",
   "id": "53ac0916",
   "metadata": {},
   "source": [
    "## Intepolación de texto (Format )"
   ]
  },
  {
   "cell_type": "markdown",
   "id": "f15262b5",
   "metadata": {},
   "source": [
    "Uno podria cambiar una cantidad establecida previamente a una cadena, utilizando el método 'format'. A continuación, unos ejemplos:"
   ]
  },
  {
   "cell_type": "code",
   "execution_count": 21,
   "id": "a3895f20",
   "metadata": {},
   "outputs": [
    {
     "name": "stdout",
     "output_type": "stream",
     "text": [
      "¿Cómo te llamas?Daniel\n",
      "¿Cómo estás?Mal\n",
      "Hola Felipe, ¿por qué estás Mal?\n"
     ]
    }
   ],
   "source": [
    "nombre=input('¿Cómo te llamas?') #el input es una función que lee.\n",
    "res=input('¿Cómo estás?')\n",
    "text='Hola {}, ¿por qué estás {}?'.format(nombre,res) # las llaves son una forma de ingresar variables, y esa variables están\n",
    "                                                    #predispuestas con un orden especifico. El orden es consecuente con \n",
    "                                                    #el contenido del argumento del format.\n",
    "print(text)"
   ]
  },
  {
   "cell_type": "code",
   "execution_count": 23,
   "id": "9272edec",
   "metadata": {},
   "outputs": [
    {
     "name": "stdout",
     "output_type": "stream",
     "text": [
      "¿Cómo te llamas?Belky\n",
      "¿Cómo estás?Bien\n",
      "Hola Belky, ¿por qué estás Bien?\n",
      "Hola Bien, ¿por qué estás Belky?\n"
     ]
    }
   ],
   "source": [
    "nombre=input('¿Cómo te llamas?') \n",
    "res=input('¿Cómo estás?')\n",
    "text='Hola {0}, ¿por qué estás {1}?'.format(nombre,res) #Para asignar los valores a reemplazarse en las llaves, se puede poner\n",
    "                                    #el número dentro de las llaves. \n",
    "print(text)\n",
    "text='Hola {1}, ¿por qué estás {0}?'.format(nombre,res) #Note que si se le cambia los números, el resultado es diferente\n",
    "print(text)"
   ]
  },
  {
   "cell_type": "markdown",
   "id": "d675f134",
   "metadata": {},
   "source": [
    "Otra manera de escribir el ejemplo anterior."
   ]
  },
  {
   "cell_type": "code",
   "execution_count": 24,
   "id": "9fd1545a",
   "metadata": {},
   "outputs": [
    {
     "name": "stdout",
     "output_type": "stream",
     "text": [
      "¿Cómo te llamas?Belky\n",
      "¿Cómo estás?Bien\n",
      "Hola Belky, ¿por qué estás Bien?\n"
     ]
    }
   ],
   "source": [
    "nombre=input('¿Cómo te llamas?') \n",
    "res=input('¿Cómo estás?')\n",
    "text='Hola {0}, ¿por qué estás {1}?'\n",
    "print(text.format(nombre,res))"
   ]
  },
  {
   "cell_type": "markdown",
   "id": "17f3d0d5",
   "metadata": {},
   "source": [
    "También, tiene grandes ventajas para trabajar con números:"
   ]
  },
  {
   "cell_type": "code",
   "execution_count": 41,
   "id": "27c932e3",
   "metadata": {},
   "outputs": [
    {
     "name": "stdout",
     "output_type": "stream",
     "text": [
      "El resultado es 0.11\n"
     ]
    }
   ],
   "source": [
    "resultado=100/888\n",
    "print('El resultado es {s:1.{ñ}f}'.format(s=resultado,ñ=2)) #En este caso\n",
    "                    #s es la variable que se le asigna al valor 'resultado'\n",
    "                    #los dos puntos, significa que a ese valor, se la va a hacer \n",
    "         #un tratamiento, y este es, que haya 1 espacio (y eso es informacion en bytes),\n",
    "        #para la cantidad entera\n",
    "# y ñ espacios disponibles para la cantidad de decimales. Además se especifica\n",
    "#esos decimales con la notación f al final."
   ]
  },
  {
   "cell_type": "markdown",
   "id": "83e838be",
   "metadata": {},
   "source": [
    "Esa forma de hacer el formato es cuando se quiere extender en acciones\n",
    "0tra forma mpas simolificada de hacerlo es utilizando el siguiente formato:\n"
   ]
  },
  {
   "cell_type": "code",
   "execution_count": 64,
   "id": "cc5e11ae",
   "metadata": {},
   "outputs": [
    {
     "name": "stdout",
     "output_type": "stream",
     "text": [
      "¿Cómo te llamas?Belky \n",
      "¿qué edad tienes?8\n",
      "Hola Belky \n",
      "eres un bebé, tienes 8\n"
     ]
    }
   ],
   "source": [
    "nombre, años=input('¿Cómo te llamas?'),int(input('¿qué edad tienes?'))\n",
    "                                        #Ese int, lo que hace es asegurar\n",
    "                                        #que la respuesta ingresada es un número entero.\n",
    "print(f'Hola {nombre}') #Note que para los formatos no se utilizó el método\n",
    "                       #format, sino la letra f, seguida de comillas.\n",
    "if años>=18:\n",
    "    print(f'Ya eres un@ adulto, tienes {años}')\n",
    "else:\n",
    "    print(f'eres un bebé, tienes {años}')"
   ]
  },
  {
   "cell_type": "markdown",
   "id": "c42c4122",
   "metadata": {},
   "source": [
    "# *LISTAS (list)* "
   ]
  },
  {
   "cell_type": "markdown",
   "id": "b5722e36",
   "metadata": {},
   "source": [
    "Las listas son otro tipo de datos de Python. Las listas agrupan de forma ordenada diferentes tipos de datos. De hecho, hay lista de listas. la forma  de escribir listsas es utilizando corchetes:"
   ]
  },
  {
   "cell_type": "code",
   "execution_count": 66,
   "id": "d14f4236",
   "metadata": {},
   "outputs": [],
   "source": [
    "lista=[1,'a',[1,2,3],{'hola':'hi', 'Chao':'bye'}] #La forma en como se\n",
    "#escriben ñlas llistas. note que estajn sepaerasdas medoiammnte comas."
   ]
  },
  {
   "cell_type": "markdown",
   "id": "efc6b077",
   "metadata": {},
   "source": [
    "## Indexacion y slicing de listas"
   ]
  },
  {
   "cell_type": "code",
   "execution_count": 83,
   "id": "27230816",
   "metadata": {},
   "outputs": [
    {
     "name": "stdout",
     "output_type": "stream",
     "text": [
      "a 3\n",
      "La letras son ['a', 'b', 'c'] y los números son [1, 2, 3]\n"
     ]
    }
   ],
   "source": [
    "abc=['a','b', 'c', 1,2,3]\n",
    "print(abc[0], abc[5]) #La indexación de las listas  coincide con la de los str\n",
    "letras,numeros=abc[:3],abc[3:] #El slicing de las listas es igual al de \n",
    "                                #las cadenas\n",
    "print(f'La letras son {letras} y los números son {numeros}')"
   ]
  },
  {
   "cell_type": "markdown",
   "id": "94fff8b6",
   "metadata": {},
   "source": [
    "## Concatenación de listas"
   ]
  },
  {
   "cell_type": "code",
   "execution_count": 85,
   "id": "957d2ad5",
   "metadata": {},
   "outputs": [
    {
     "name": "stdout",
     "output_type": "stream",
     "text": [
      "['c', 'r', 'i', 's', 't', 'i', 'a', 'n'] ['b', 'e', 'l', 'k', 'y']\n",
      "['c', 'r', 'i', 's', 't', 'i', 'a', 'n', 'b', 'e', 'l', 'k', 'y']\n"
     ]
    }
   ],
   "source": [
    "cadena='c r i s t i a n' #el separado es para usar el split y de esa manera hacer una lista larga, mucho más fácil.\n",
    "candena2='b e l k y'\n",
    "lista=cadena.split()\n",
    "lista2=candena2.split()\n",
    "print(lista, lista2)\n",
    "print(lista + lista2)"
   ]
  },
  {
   "cell_type": "markdown",
   "id": "7ed7102b",
   "metadata": {},
   "source": [
    "## Las listas son mutables"
   ]
  },
  {
   "cell_type": "code",
   "execution_count": 4,
   "id": "e7889ab6",
   "metadata": {},
   "outputs": [
    {
     "name": "stdout",
     "output_type": "stream",
     "text": [
      "[1, 2, 3, 4]\n",
      "[0, 'Hola', 3, 4]\n"
     ]
    }
   ],
   "source": [
    "lista=[1,2,3,4]\n",
    "print(lista)\n",
    "lista[0]=0 #Se le asigna un valor a los índices de las listas, se están cambiando.\n",
    "lista[1]='Hola'\n",
    "print(lista) # con esas nuevas asignaciones 'lista' es una cosa diferente que lo que se tenía al inicio."
   ]
  },
  {
   "cell_type": "markdown",
   "id": "9c4ac386",
   "metadata": {},
   "source": [
    "# Métodos de listas"
   ]
  },
  {
   "cell_type": "markdown",
   "id": "c8d8421a",
   "metadata": {},
   "source": [
    "### .append()"
   ]
  },
  {
   "cell_type": "code",
   "execution_count": 32,
   "id": "d569f5da",
   "metadata": {},
   "outputs": [
    {
     "name": "stdout",
     "output_type": "stream",
     "text": [
      "[1, 2, 3, 4, 17] None\n"
     ]
    }
   ],
   "source": [
    "lista=[1,2,3,4]\n",
    "z=lista.append(17) #Agrega un elemento al final de cada lista. es muy importante notar que cuando se hace esto, la lista se\n",
    "                # se está editando. Por llo tanto no tiene sentido hacer s=lista.append(), porque estaría guardando la acción\n",
    "                #de editarla. Es que no retorna nada. Ya que la cantidad que se agrega es conocida por el usuario.\n",
    "print(lista, z)"
   ]
  },
  {
   "cell_type": "markdown",
   "id": "53554b45",
   "metadata": {},
   "source": [
    "### .pop()"
   ]
  },
  {
   "cell_type": "code",
   "execution_count": 33,
   "id": "534ab69e",
   "metadata": {},
   "outputs": [
    {
     "name": "stdout",
     "output_type": "stream",
     "text": [
      "[1, 2, 4] 3\n",
      "[3, 2]\n"
     ]
    }
   ],
   "source": [
    "lista=[1,2,3,4]\n",
    "z=lista.pop(2) #Pop elimina el elemento cuya indexación corresponde al argumento.\n",
    "print(lista,z) #aquí si tiene sentido asignarle una variable a la acción, puesto que así podremos conocer cual es el valor\n",
    "                #que se eliminó\n",
    "\n",
    "li=[3,2,1]\n",
    "li.pop() #Por defecto elimina el íltimo elemnto de la lista.\n",
    "\n",
    "print(li )"
   ]
  },
  {
   "cell_type": "markdown",
   "id": "a6ff069d",
   "metadata": {},
   "source": [
    "### .sort()"
   ]
  },
  {
   "cell_type": "code",
   "execution_count": 31,
   "id": "8cfa6d26",
   "metadata": {
    "scrolled": true
   },
   "outputs": [
    {
     "name": "stdout",
     "output_type": "stream",
     "text": [
      "Lista de números ordenada: [0, 2, 2, 4, 5, 6, 7, 8]. \n",
      " Lista de letras ordenada: ['a', 'f', 'h', 'j', 'j', 'l', 'm', 'r', 's', 's', 'y', 'z']\n"
     ]
    }
   ],
   "source": [
    "l1=[0,4,5,6,7,8,2,2]\n",
    "cadena='m l j j f h s s a z r y'\n",
    "s=cadena.split() #Solo creo esta candena para evitarme la fatiga de hacer una lisra super larga.\n",
    "#print(s)\n",
    "\n",
    "l1.sort(), s.sort() #Las acciones que directamente cambian la lista, como esta que lo que hace es ordenarlas según el sistma\n",
    "                    #ascii, entonces NO tienen un valor para asociarla a una variable. No como en el caso de pop. En ese \n",
    "                    # caso, retorna algo, y es precisamente el elemento eliminado.\n",
    "print(f'Lista de números ordenada: {l1}. \\n Lista de letras ordenada: {s}')"
   ]
  },
  {
   "cell_type": "markdown",
   "id": "959e3bf3",
   "metadata": {},
   "source": [
    "Puedes conocer [**más métodos de listas**](https://docs.hektorprofe.net/python/metodos-de-las-colecciones/metodos-de-las-listas/)"
   ]
  },
  {
   "cell_type": "markdown",
   "id": "6a07702c",
   "metadata": {},
   "source": [
    "# *DICCIONARIOS (dict)*"
   ]
  },
  {
   "cell_type": "markdown",
   "id": "cd4d4192",
   "metadata": {},
   "source": [
    "Los diccionarios se escriben entre llaves {}. Y estos no tienen una indexación como las listas, sino que para encontrar una información, utilizamos las llaves. Podemos usar diccionarios cuando no conocemos el orden de la secuencia. Pero si lo conocemos, entonces es más adeacuado trabajar con las listas."
   ]
  },
  {
   "cell_type": "code",
   "execution_count": 51,
   "id": "2ca91643",
   "metadata": {},
   "outputs": [
    {
     "name": "stdout",
     "output_type": "stream",
     "text": [
      "{'llave1': 'valor1', 'llave2': 'valor2', 4: 'hola', 'a': ['casa', 5]}\n",
      "el elemento que corresponde a la llave1 es: valor1 \n",
      "El precio de la Manzana es 500 \n",
      " Banano:300 \n",
      " Fresa:800\n"
     ]
    }
   ],
   "source": [
    "dic={'llave1':'valor1', 'llave2':'valor2', 4:'hola', 'a':['casa',5]} #estructura de un diccionario. La llave no puede ser un\n",
    "                                                                #diccionario. Pero el valor, sí.\n",
    "print(dic)\n",
    "\n",
    "###################\n",
    "s=dic['llave1'] #Esta es la forma en como se extrae un elemento de un diccionario. Entonces necesito la llave para acceder al\n",
    "                #valor.\n",
    "print(f'el elemento que corresponde a la llave1 es: {s} ')\n",
    "\n",
    "#Una aplicación muy útil de los diccionarios serían los precios\n",
    "frutas={'Manzana': 500, 'Banano':300, 'Fresa':800}\n",
    "k,l,ñ=frutas['Manzana'],frutas['Banano'],frutas['Fresa']\n",
    "print(f'El precio de la Manzana es {k} \\n Banano:{l} \\n Fresa:{ñ}')"
   ]
  },
  {
   "cell_type": "markdown",
   "id": "d7120640",
   "metadata": {},
   "source": [
    "Se puede ingresar a elementos de listas que son valores de alguna llave:"
   ]
  },
  {
   "cell_type": "code",
   "execution_count": 53,
   "id": "6a4227a7",
   "metadata": {},
   "outputs": [
    {
     "name": "stdout",
     "output_type": "stream",
     "text": [
      "['Queso', 'Pan', 'Vino']\n",
      "Vino\n"
     ]
    }
   ],
   "source": [
    "dic={1:0,2:5,'lista':['Queso','Pan','Vino']}\n",
    "print(dic['lista'])#del elemento con llave llamada lista...\n",
    "print(dic['lista'][2])#...se extrae el elemento con indexación 2. Recordar que esto sí se puede hacer porque a las listas si\n",
    "                    #se les asiguna un orden.\n"
   ]
  },
  {
   "cell_type": "markdown",
   "id": "5ed28520",
   "metadata": {},
   "source": [
    "**Agregando items a diccionario**: demuestra que los diccionarios son elementos mutables.\n"
   ]
  },
  {
   "cell_type": "code",
   "execution_count": 59,
   "id": "0718d34f",
   "metadata": {},
   "outputs": [
    {
     "name": "stdout",
     "output_type": "stream",
     "text": [
      "{1: 0, 2: 5, 'lista': ['Queso', 'Pan', 'Vino']}\n",
      "\n",
      "\n",
      "\n",
      "\n",
      "{1: 0, 2: 5, 'lista': ['Queso', 'Pan', 'Vino'], 'oso': [1, 2, 3]}\n"
     ]
    }
   ],
   "source": [
    "dic={1:0,2:5,'lista':['Queso','Pan','Vino']}\n",
    "print(dic)\n",
    "\n",
    "print(3*'\\n')\n",
    "\n",
    "dic['oso']=[1,2,3]#Forma de agregar un item a un diccionario\n",
    "print(dic)"
   ]
  },
  {
   "cell_type": "markdown",
   "id": "0c6d8751",
   "metadata": {},
   "source": [
    "## *Métodos en Diccionarios*\n"
   ]
  },
  {
   "cell_type": "markdown",
   "id": "09119545",
   "metadata": {},
   "source": [
    "### .get()\n",
    "Busca un elemento a partir de su clave y si no lo encuentra devuelve un valor por defecto:"
   ]
  },
  {
   "cell_type": "code",
   "execution_count": 60,
   "id": "d0202ec0",
   "metadata": {},
   "outputs": [
    {
     "data": {
      "text/plain": [
       "'No físicos clásicos'"
      ]
     },
     "execution_count": 60,
     "metadata": {},
     "output_type": "execute_result"
    }
   ],
   "source": [
    "dic={'Einstein':'Relatividad','Paul Dirac':'Antimateria','De Broglie':'Onda de Materia','Niels Born':'Estados estacionarios'}\n",
    "dic.get('Isaac Newton', 'No físicos clásicos')"
   ]
  },
  {
   "cell_type": "markdown",
   "id": "e9860f73",
   "metadata": {},
   "source": [
    "### .keys () y .values ()\n",
    "Genera una lista en clave y valor de los registros del diccionario"
   ]
  },
  {
   "cell_type": "code",
   "execution_count": 64,
   "id": "fca585ad",
   "metadata": {},
   "outputs": [
    {
     "name": "stdout",
     "output_type": "stream",
     "text": [
      "Cientificos: dict_keys(['Einstein', 'Paul Dirac', 'De Broglie', 'Niels Born']).\n",
      "Descubrimientos: dict_values(['Relatividad', 'Antimateria', 'Onda de Materia', 'Estados estacionarios'])\n"
     ]
    }
   ],
   "source": [
    "dic={'Einstein':'Relatividad','Paul Dirac':'Antimateria','De Broglie':'Onda de Materia','Niels Born':'Estados estacionarios'}\n",
    "print(f'Cientificos: {dic.keys()}.\\nDescubrimientos: {dic.values ()}')"
   ]
  },
  {
   "cell_type": "markdown",
   "id": "c3a8993e",
   "metadata": {},
   "source": [
    "### .pop ()\n",
    "Extrae un registro de un diccionario a partir de su clave y lo borra, acepta valor por defecto"
   ]
  },
  {
   "cell_type": "code",
   "execution_count": 65,
   "id": "d9c9380a",
   "metadata": {},
   "outputs": [
    {
     "data": {
      "text/plain": [
       "'Falta ese'"
      ]
     },
     "execution_count": 65,
     "metadata": {},
     "output_type": "execute_result"
    }
   ],
   "source": [
    "dic={'Einstein':'Relatividad','Paul Dirac':'Antimateria','De Broglie':'Onda de Materia','Niels Born':'Estados estacionarios'}\n",
    "dic.pop('Lorentz','Falta ese')"
   ]
  },
  {
   "cell_type": "markdown",
   "id": "6b356948",
   "metadata": {},
   "source": [
    "Más métodos de diccionarios [aquí](https://www.eumus.edu.uy/eme/ensenanza/electivas/python/2020/clase_06b.html)"
   ]
  },
  {
   "cell_type": "markdown",
   "id": "93cd16dc",
   "metadata": {},
   "source": [
    "# *TUPLAS (tuple)*"
   ]
  },
  {
   "cell_type": "markdown",
   "id": "cf82e0b0",
   "metadata": {},
   "source": [
    "Las tuplas son como las listas, pero se escriben con paréntesis ().\n",
    "Las tuplas son inmutables. \n",
    "\n",
    "Entonces las tuplas se utilizan cuando se quiere guardar información."
   ]
  },
  {
   "cell_type": "code",
   "execution_count": 100,
   "id": "59277f64",
   "metadata": {},
   "outputs": [
    {
     "name": "stdout",
     "output_type": "stream",
     "text": [
      "1\n",
      "1\n",
      "La letra a aparece 1 veces en la tupla\n"
     ]
    }
   ],
   "source": [
    "tupla=(1,'a',3,4,5) #forma en como se escribe una tupla\n",
    "\n",
    "print(tupla[0]) #Las tuplas también tienen indexación (orden) como las listas\n",
    "\n",
    "#tupla[0]=5 #Las tuplas NO son mutables.\n",
    "\n",
    "print(tupla.index('a')) #Con esta función se puede conocer la posición de un elmento.\n",
    "\n",
    "s=tupla.count('a')\n",
    "\n",
    "print(f'La letra a aparece {s} veces en la tupla') #Con count, se cuenta el número de apariciones de un elemento dentro de la\n",
    "                                                     #tupla."
   ]
  },
  {
   "cell_type": "markdown",
   "id": "d83305fe",
   "metadata": {},
   "source": [
    "# *SETS* \n",
    "Un set es un conjunto de valores únicos. Lo cual resulta útil para ver los valores de una lista (es decir, todos los valores, sin repetición). Los sets son los elementos que tiene python para definir un conjunto. Ya que un conjunto no tiene elementos que se repite. Y ese conjunto no tiene un orden establecido, lo que significa que no están indexados (no hay index, y no hay slicing)."
   ]
  },
  {
   "cell_type": "code",
   "execution_count": 3,
   "id": "b02cd877",
   "metadata": {},
   "outputs": [
    {
     "name": "stdout",
     "output_type": "stream",
     "text": [
      "{1, 2, 3, 4}\n",
      "{2, 'a', 'b'}\n"
     ]
    }
   ],
   "source": [
    "set1=set([1,2,3,4,2,2,2]) #forma 1 en como se define un set\n",
    "print(set1) #Lo que imprime es una lista con valores que no se repiten\n",
    "\n",
    "\n",
    "set2={'a','a','b',2} #forma 2 en como se define un set\n",
    "print(set2)"
   ]
  },
  {
   "cell_type": "markdown",
   "id": "138ec8a8",
   "metadata": {},
   "source": [
    "Los sets son mutables, los frozenset no. "
   ]
  },
  {
   "cell_type": "markdown",
   "id": "79c89bfa",
   "metadata": {},
   "source": [
    "## Set vs Frozenset\n",
    "mutabilidad e inmutabilidad."
   ]
  },
  {
   "cell_type": "markdown",
   "id": "a23f799e",
   "metadata": {},
   "source": [
    "### .add()"
   ]
  },
  {
   "cell_type": "code",
   "execution_count": 11,
   "id": "d0ea67ff",
   "metadata": {},
   "outputs": [
    {
     "name": "stdout",
     "output_type": "stream",
     "text": [
      "{1, 2, 3, 'a'}\n"
     ]
    },
    {
     "ename": "AttributeError",
     "evalue": "'frozenset' object has no attribute 'add'",
     "output_type": "error",
     "traceback": [
      "\u001b[1;31m---------------------------------------------------------------------------\u001b[0m",
      "\u001b[1;31mAttributeError\u001b[0m                            Traceback (most recent call last)",
      "\u001b[1;32m<ipython-input-11-39dedfad2885>\u001b[0m in \u001b[0;36m<module>\u001b[1;34m\u001b[0m\n\u001b[0;32m      4\u001b[0m \u001b[1;33m\u001b[0m\u001b[0m\n\u001b[0;32m      5\u001b[0m \u001b[0mset2\u001b[0m\u001b[1;33m=\u001b[0m\u001b[0mfrozenset\u001b[0m\u001b[1;33m(\u001b[0m\u001b[1;34m'a'\u001b[0m\u001b[1;33m)\u001b[0m\u001b[1;33m\u001b[0m\u001b[1;33m\u001b[0m\u001b[0m\n\u001b[1;32m----> 6\u001b[1;33m \u001b[0mset2\u001b[0m\u001b[1;33m.\u001b[0m\u001b[0madd\u001b[0m\u001b[1;33m(\u001b[0m\u001b[1;34m'hi'\u001b[0m\u001b[1;33m)\u001b[0m \u001b[1;31m#Sale un error porque el frozenset no es mutable.\u001b[0m\u001b[1;33m\u001b[0m\u001b[1;33m\u001b[0m\u001b[0m\n\u001b[0m\u001b[0;32m      7\u001b[0m \u001b[0mprint\u001b[0m\u001b[1;33m(\u001b[0m\u001b[0mset2\u001b[0m\u001b[1;33m)\u001b[0m\u001b[1;33m\u001b[0m\u001b[1;33m\u001b[0m\u001b[0m\n",
      "\u001b[1;31mAttributeError\u001b[0m: 'frozenset' object has no attribute 'add'"
     ]
    }
   ],
   "source": [
    "set1={1,2,3,2}\n",
    "set1.add('a') #agregamos un elemento al set1\n",
    "print(set1)\n",
    "\n",
    "set2=frozenset('a')\n",
    "set2.add('hi') #Sale un error porque el frozenset no es mutable.\n",
    "print(set2)\n"
   ]
  },
  {
   "cell_type": "markdown",
   "id": "cc5b4998",
   "metadata": {},
   "source": [
    "Hay 4 métodos con los cuales se puede eliminar elementos de un conjunto en Python. Y en Python también existen las operaciones de conjuntos. Como la intersección, la unión, la diferencia... [Aquí](https://j2logo.com/python/tutorial/tipo-set-python/#) se muestra ejemplos de dichas operaciones de conjuntos."
   ]
  },
  {
   "cell_type": "markdown",
   "id": "cbff1846",
   "metadata": {},
   "source": [
    "# *Booleanos* (bool)\n",
    "Un valor booleano solo puede tener dos opciones: verdadero o falso. Y son los elementos de la lógica."
   ]
  },
  {
   "cell_type": "code",
   "execution_count": 4,
   "id": "16735267",
   "metadata": {},
   "outputs": [
    {
     "name": "stdout",
     "output_type": "stream",
     "text": [
      "False True True\n"
     ]
    }
   ],
   "source": [
    "print(2>3, 3>2, 3==6/2)"
   ]
  },
  {
   "cell_type": "markdown",
   "id": "e193e12d",
   "metadata": {},
   "source": [
    "1. Los **valores de comparación** en python son:![Tabla de Valores de comparación](https://www.maquinasvirtuales.eu/ipsoapoo/2020/12/python-aprendiendo-desde-cero-vi-operadores-3.png)"
   ]
  },
  {
   "cell_type": "markdown",
   "id": "43c4e26e",
   "metadata": {},
   "source": [
    "2. ## And, Or, Not\n",
    "son operadores lógicos. And y Or lo que hacen es concatenar valores de comparación..."
   ]
  },
  {
   "cell_type": "code",
   "execution_count": 7,
   "id": "bf7831ef",
   "metadata": {},
   "outputs": [
    {
     "name": "stdout",
     "output_type": "stream",
     "text": [
      "True\n",
      "False\n"
     ]
    }
   ],
   "source": [
    "print(2==2 and 3>0) #Tengo dos operaciones lógicas. Ellas están unidas por la operación lógica 'and'.\n",
    "\n",
    "print(2<0 or 'a'=='b')#Igual que el caso anterior"
   ]
  },
  {
   "cell_type": "markdown",
   "id": "d3cb44cd",
   "metadata": {},
   "source": [
    "Mientras que not, lo que hace es negar el booleano de una operación:"
   ]
  },
  {
   "cell_type": "code",
   "execution_count": 9,
   "id": "1f8f7de2",
   "metadata": {},
   "outputs": [
    {
     "name": "stdout",
     "output_type": "stream",
     "text": [
      "False True\n"
     ]
    }
   ],
   "source": [
    "print(not 1==1, not 2<0) #El primero es verdadero, y el segundo falso, pero se cambian gracias al not."
   ]
  },
  {
   "cell_type": "markdown",
   "id": "9efeac6b",
   "metadata": {},
   "source": [
    "3. ## Declaraciones: If, Elif, Else\n",
    "Lo que hacen las declaraciones es controlar el flujo del programa, si algo tiene (o no) un valor booleano, entonces el flujo del programa cambia."
   ]
  },
  {
   "cell_type": "code",
   "execution_count": 14,
   "id": "acd305e8",
   "metadata": {},
   "outputs": [
    {
     "name": "stdout",
     "output_type": "stream",
     "text": [
      "¿Qué hora es? 9\n",
      "¿Qué minutos son? 31\n",
      "Ya no puedes comer\n"
     ]
    }
   ],
   "source": [
    "hora=int(input('¿Qué hora es? '))\n",
    "if hora>=9:\n",
    "    minutos=int(input('¿Qué minutos son? '))\n",
    "    if minutos>=30:\n",
    "        print('Ya no puedes comer')\n",
    "    else:\n",
    "        print('Aún tienes oportunidad')\n",
    "else:\n",
    "    print('Aún tienes oportunidad')"
   ]
  },
  {
   "cell_type": "markdown",
   "id": "ef8bc708",
   "metadata": {},
   "source": [
    "\n",
    "\n",
    "\n",
    "\n",
    "\n",
    "\n",
    "\n",
    "\n"
   ]
  },
  {
   "cell_type": "markdown",
   "id": "3c288766",
   "metadata": {},
   "source": [
    "\n",
    "\n",
    "\n",
    "\n",
    "\n",
    "\n",
    "\n",
    "\n",
    "\n"
   ]
  },
  {
   "cell_type": "markdown",
   "id": "ea3bfdf8",
   "metadata": {},
   "source": [
    "\n",
    "\n",
    "\n",
    "\n",
    "\n",
    "\n",
    "\n",
    "\n",
    "\n",
    "\n",
    "\n",
    "\n",
    "\n",
    "\n",
    "\n"
   ]
  },
  {
   "cell_type": "markdown",
   "id": "d6934fe3",
   "metadata": {},
   "source": [
    "# Ciclos en Python"
   ]
  },
  {
   "cell_type": "markdown",
   "id": "9a6d4d64",
   "metadata": {},
   "source": [
    "## Ciclos For\n",
    "Estos ciclos se aplican para los elementos que se pueden iterar (recorrer en cada item del elemento). Listas, cadenas de texto:"
   ]
  },
  {
   "cell_type": "code",
   "execution_count": 32,
   "id": "116e06a8",
   "metadata": {},
   "outputs": [
    {
     "name": "stdout",
     "output_type": "stream",
     "text": [
      " Las letras son: ['a', 'b', 'c']. Los números son: [1, 2, 3, 4, 5]\n"
     ]
    }
   ],
   "source": [
    "lista=[1,2,3,4,5,'a','b','c'] #La lista es un objeto iterable\n",
    "letras, numeros=[], []\n",
    "\n",
    "for i in lista: #i es como decir, el i-ésimo item de la lista\n",
    "    if type(i)==str: #si ese item es una letra... 1)\n",
    "        letras.append(i) #1) a la lista letras se le agrega dicho item\n",
    "        if i==lista[-1]: #2) Si el item corresponde al último elemento de la lista, entonces \n",
    "            print(f' Las letras son: {letras}. Los números son: {numeros}') #2) se imprime las listas de letras y números\n",
    "    else:                  #sino\n",
    "        numeros.append(i) #1) a la lista numeros se le agrega dicho item"
   ]
  },
  {
   "cell_type": "code",
   "execution_count": 33,
   "id": "c1812d0f",
   "metadata": {},
   "outputs": [
    {
     "name": "stdout",
     "output_type": "stream",
     "text": [
      "Qué bueno!\n"
     ]
    }
   ],
   "source": [
    "cadena='El papá de Lola se compró un camión'\n",
    "s=cadena.split()\n",
    "\n",
    "for i in s:\n",
    "    if i=='camión':\n",
    "        print('Qué bueno!')\n"
   ]
  },
  {
   "cell_type": "markdown",
   "id": "2010668f",
   "metadata": {},
   "source": [
    "## Ciclos for para desempaquetar..."
   ]
  },
  {
   "cell_type": "markdown",
   "id": "7dac2c19",
   "metadata": {},
   "source": [
    "### Tuplas:"
   ]
  },
  {
   "cell_type": "code",
   "execution_count": 15,
   "id": "57001bed",
   "metadata": {},
   "outputs": [
    {
     "name": "stdout",
     "output_type": "stream",
     "text": [
      "(1, 2, 'a')\n",
      "(2, 3, 'b')\n",
      "(3, 4, 'c')\n",
      "(0, 1, 'd')\n",
      "1 2 a\n",
      "2 3 b\n",
      "3 4 c\n",
      "0 1 d\n"
     ]
    }
   ],
   "source": [
    "lista=[(1,2,'a'),(2,3, 'b'),(3,4, 'c'),(0,1, 'd')] #Se tiene una lista cuyos elementos son tuplas de la misma dimension\n",
    "\n",
    "for i in lista:\n",
    "    print(i)    # De esta manera se imprime cada item        \n",
    "\n",
    "for (a,b,c) in lista: # Es esta manera se entiende la extructura de los item que conforma la lista, y se logra acceder a ellos\n",
    "    print (a,b,c)"
   ]
  },
  {
   "cell_type": "markdown",
   "id": "90bba1db",
   "metadata": {},
   "source": [
    "### Diccionarios:"
   ]
  },
  {
   "cell_type": "code",
   "execution_count": 31,
   "id": "88e5cd41",
   "metadata": {},
   "outputs": [
    {
     "name": "stdout",
     "output_type": "stream",
     "text": [
      "Einstein\n",
      "Paul Dirac\n",
      "De Broglie\n",
      "Niels Born\n",
      "****************************************************************************************************\n",
      "Relatividad\n",
      "Antimateria\n",
      "Onda de Materia\n",
      "Estados estacionarios\n",
      "****************************************************************************************************\n",
      "('Einstein', 'Relatividad')\n",
      "('Paul Dirac', 'Antimateria')\n",
      "('De Broglie', 'Onda de Materia')\n",
      "('Niels Born', 'Estados estacionarios')\n"
     ]
    }
   ],
   "source": [
    "dic={'Einstein':'Relatividad','Paul Dirac':'Antimateria','De Broglie':'Onda de Materia','Niels Born':'Estados estacionarios'}\n",
    "\n",
    "for i in dic: #Aquí lo que nos muestra es solo las llaves. Considera que los item son las llaves.\n",
    "    print(i)\n",
    "\n",
    "print(100*'*')    \n",
    "    \n",
    "for a,b in dic.items(): #Para que salga la estructura de diccionario, se debe agregar dic.items()\n",
    "    print(b) #Así es como se pueden ver los valores de las llaves.\n",
    "\n",
    "print(100*'*')  \n",
    "    \n",
    "for i in dic.items(): #Y de esta manera es como se logra ver la estructura del diccionario.\n",
    "    print(i)"
   ]
  },
  {
   "cell_type": "markdown",
   "id": "2d5d9457",
   "metadata": {},
   "source": [
    "\n",
    "\n",
    "\n",
    "\n",
    "\n",
    "\n",
    "\n",
    "\n",
    "\n",
    "\n",
    "\n",
    "\n",
    "\n",
    "\n",
    "\n",
    "\n",
    "\n",
    "\n",
    "\n"
   ]
  },
  {
   "cell_type": "markdown",
   "id": "2c74db1d",
   "metadata": {},
   "source": [
    "\n",
    "\n",
    "\n",
    "\n",
    "\n",
    "\n",
    "\n",
    "\n",
    "\n",
    "\n",
    "\n",
    "\n",
    "\n",
    "\n",
    "\n",
    "\n",
    "\n",
    "\n",
    "\n",
    "\n",
    "\n",
    "\n",
    "\n",
    "\n",
    "\n",
    "\n",
    "\n",
    "\n",
    "\n",
    "\n",
    "\n",
    "\n",
    "\n",
    "\n"
   ]
  },
  {
   "cell_type": "markdown",
   "id": "c35cf439",
   "metadata": {},
   "source": [
    "\n",
    "\n",
    "\n",
    "\n",
    "\n",
    "\n",
    "\n",
    "\n",
    "\n",
    "\n",
    "\n",
    "\n",
    "\n",
    "\n",
    "\n",
    "\n",
    "\n",
    "\n",
    "\n",
    "\n",
    "\n",
    "\n",
    "\n",
    "\n",
    "\n",
    "\n",
    "\n",
    "\n",
    "\n",
    "\n",
    "\n",
    "\n",
    "\n",
    "\n"
   ]
  },
  {
   "cell_type": "markdown",
   "id": "3dce19cb",
   "metadata": {},
   "source": [
    "## Ciclos While\n",
    "El While es igual al for, el único cambio es que el ciclo no se para, sino que sigue mientras una condición se está cumpliendo. Es decir, la condicion debe ser verdadera."
   ]
  },
  {
   "cell_type": "code",
   "execution_count": 38,
   "id": "02a8b11d",
   "metadata": {},
   "outputs": [
    {
     "name": "stdout",
     "output_type": "stream",
     "text": [
      "Ya completamos 10\n"
     ]
    }
   ],
   "source": [
    "s=0\n",
    "while s!=10:\n",
    "    s=s+1\n",
    "    if s==10:\n",
    "        print('Ya completamos 10')"
   ]
  },
  {
   "cell_type": "code",
   "execution_count": 40,
   "id": "4be2f462",
   "metadata": {},
   "outputs": [
    {
     "name": "stdout",
     "output_type": "stream",
     "text": [
      "Holal\n",
      "Mal educado\n",
      "Holañ\n",
      "Mal educado\n",
      "Holañ\n",
      "Mal educado\n",
      "HolaHola\n"
     ]
    }
   ],
   "source": [
    "Saludo=str(input('Hola'))\n",
    "while Saludo!='Hola':\n",
    "    print('Mal educado')\n",
    "    Saludo=str(input('Hola'))"
   ]
  },
  {
   "cell_type": "markdown",
   "id": "8ae2bd42",
   "metadata": {},
   "source": [
    "\n",
    "\n",
    "\n",
    "\n",
    "\n",
    "\n",
    "\n",
    "\n",
    "\n",
    "\n",
    "\n",
    "\n",
    "\n",
    "\n",
    "\n",
    "\n",
    "\n",
    "\n",
    "\n"
   ]
  },
  {
   "cell_type": "markdown",
   "id": "2bdd5365",
   "metadata": {},
   "source": [
    "\n",
    "\n",
    "\n",
    "\n",
    "\n",
    "\n",
    "\n",
    "\n",
    "\n",
    "\n",
    "\n",
    "\n",
    "\n",
    "\n",
    "\n",
    "\n",
    "\n",
    "\n",
    "\n"
   ]
  },
  {
   "cell_type": "markdown",
   "id": "51e32f42",
   "metadata": {},
   "source": [
    "\n",
    "\n",
    "\n",
    "\n",
    "\n",
    "\n",
    "\n",
    "\n",
    "\n",
    "\n",
    "\n",
    "\n",
    "\n",
    "\n",
    "\n",
    "\n",
    "\n",
    "\n",
    "\n"
   ]
  },
  {
   "cell_type": "markdown",
   "id": "186451be",
   "metadata": {},
   "source": [
    "## Palabras de control para ciclos: break, continue, pass "
   ]
  },
  {
   "cell_type": "markdown",
   "id": "976c1e05",
   "metadata": {},
   "source": [
    "### break\n",
    "Rompe el ciclo si algo se cumple."
   ]
  },
  {
   "cell_type": "code",
   "execution_count": 12,
   "id": "33d7158c",
   "metadata": {},
   "outputs": [
    {
     "name": "stdout",
     "output_type": "stream",
     "text": [
      "['B', 'e', 'l', 'k', 'y', ';', 'A', 'l', 'e', 'j', 'a', 'n', 'd', 'r', 'a']\n",
      "B\n",
      " \n",
      "e\n",
      " \n",
      "l\n",
      " \n",
      "k\n",
      " \n",
      "y\n",
      " \n",
      ";\n",
      "Ese es mi primer nombre\n"
     ]
    }
   ],
   "source": [
    "cadena='B e l k y ; A l e j a n d r a'\n",
    "s=cadena.split()\n",
    "print(s)\n",
    "\n",
    "for i in cadena:\n",
    "    print(i)\n",
    "    if i==';':\n",
    "        print('Ese es mi primer nombre')\n",
    "        break                           #Esta palabra clave lo que hace es romper el ciclo una vez se haya cumplido una acción\n",
    "        \n",
    "        "
   ]
  },
  {
   "cell_type": "markdown",
   "id": "7be8e3d1",
   "metadata": {},
   "source": [
    "### continue\n",
    "si un condicional se cumple, entonces el flujo continua."
   ]
  },
  {
   "cell_type": "code",
   "execution_count": 33,
   "id": "aa1a87da",
   "metadata": {},
   "outputs": [
    {
     "name": "stdout",
     "output_type": "stream",
     "text": [
      "Los primeros diez números son: [1, 2, 3, 4, 5, 6, 7, 8, 9, 10]\n",
      "Los números en el rango de los veinte, son: [20, 21]\n"
     ]
    }
   ],
   "source": [
    "cadena=[1,2,3,4,5,6,7,8,9,10,11,12,13,14,15,16,17,18,19,20,21]\n",
    "s=[]\n",
    "k=[]\n",
    "    \n",
    "for i in cadena:\n",
    "    if i>=1 and i<11:\n",
    "        s.append(i)\n",
    "        if i==10:\n",
    "            print(f'Los primeros diez números son: {s}')\n",
    "    if 20>i>10:\n",
    "        continue                 #Si esta acción se cumple, se pasa a la siguiente orden.\n",
    "    if i>=20:\n",
    "        k.append(i)\n",
    "        if i==cadena[-1]:\n",
    "            print(f'Los números en el rango de los veinte, son: {k}')\n",
    "    \n",
    "        "
   ]
  },
  {
   "cell_type": "markdown",
   "id": "606b7896",
   "metadata": {},
   "source": [
    "### pass\n",
    "esta es una función nula. Lo que significa que no hace nada cuando la implemento dentro de las lineas de codigo, pero que por sintaxis, se requiere. Y cuando la pongo, entonces el programa no saca errores."
   ]
  },
  {
   "cell_type": "code",
   "execution_count": 37,
   "id": "820f7528",
   "metadata": {},
   "outputs": [
    {
     "ename": "SyntaxError",
     "evalue": "unexpected EOF while parsing (<ipython-input-37-61b2712d36d6>, line 7)",
     "output_type": "error",
     "traceback": [
      "\u001b[1;36m  File \u001b[1;32m\"<ipython-input-37-61b2712d36d6>\"\u001b[1;36m, line \u001b[1;32m7\u001b[0m\n\u001b[1;33m    if i==';': #Al no tenerse una acción que hacer si i es igual a ese valor, entonces sale error. Por sintaxis.\u001b[0m\n\u001b[1;37m                                                                                                                ^\u001b[0m\n\u001b[1;31mSyntaxError\u001b[0m\u001b[1;31m:\u001b[0m unexpected EOF while parsing\n"
     ]
    }
   ],
   "source": [
    "cadena='B e l k y ; A l e j a n d r a'\n",
    "s=cadena.split()\n",
    "print(s)\n",
    "\n",
    "for i in cadena:\n",
    "    print(i)\n",
    "    if i==';': #Al no tenerse una acción que hacer si i es igual a ese valor, entonces sale error. Por sintaxis."
   ]
  },
  {
   "cell_type": "code",
   "execution_count": 40,
   "id": "ceca105b",
   "metadata": {},
   "outputs": [
    {
     "name": "stdout",
     "output_type": "stream",
     "text": [
      "['B', 'e', 'l', 'k', 'y', ';', 'A']\n",
      "B\n",
      " \n",
      "e\n",
      " \n",
      "l\n",
      " \n",
      "k\n",
      " \n",
      "y\n",
      " \n",
      ";\n",
      " \n",
      "A\n"
     ]
    }
   ],
   "source": [
    "cadena='B e l k y ; A'\n",
    "s=cadena.split()\n",
    "print(s)\n",
    "\n",
    "for i in cadena:\n",
    "    print(i)\n",
    "    if i==';':\n",
    "        pass #Pero si pongo la declaración de control 'pass', ya no sale error. Entonces pass evita los errores. Se puede utilizar\n",
    "            #para cuando no se sabe que acción poner ante el condicional."
   ]
  },
  {
   "cell_type": "markdown",
   "id": "9cc92721",
   "metadata": {},
   "source": [
    "\n",
    "\n",
    "\n",
    "\n",
    "\n",
    "\n",
    "\n",
    "\n",
    "\n",
    "\n"
   ]
  },
  {
   "cell_type": "markdown",
   "id": "296c009d",
   "metadata": {},
   "source": [
    "\n",
    "\n"
   ]
  },
  {
   "cell_type": "markdown",
   "id": "8ce11d0e",
   "metadata": {},
   "source": [
    "\n",
    "\n",
    "\n",
    "\n",
    "\n",
    "\n",
    "\n",
    "\n",
    "\n",
    "\n"
   ]
  },
  {
   "cell_type": "markdown",
   "id": "ae842098",
   "metadata": {},
   "source": [
    "\n",
    "\n",
    "\n",
    "\n",
    "\n",
    "\n",
    "\n",
    "\n",
    "\n",
    "\n"
   ]
  },
  {
   "cell_type": "markdown",
   "id": "04ddde4f",
   "metadata": {},
   "source": [
    "\n",
    "\n",
    "\n",
    "\n",
    "\n",
    "\n",
    "\n",
    "\n",
    "\n",
    "\n"
   ]
  },
  {
   "cell_type": "markdown",
   "id": "2db10f26",
   "metadata": {},
   "source": [
    "\n",
    "\n",
    "\n",
    "\n",
    "\n",
    "\n",
    "\n",
    "\n",
    "\n",
    "\n"
   ]
  },
  {
   "cell_type": "markdown",
   "id": "8c7ca2af",
   "metadata": {},
   "source": [
    "# Función Range\n",
    "range(star,stop,step), with the start is inclusive, and the stop is exclusive. Dafaults star=0 and step is 1."
   ]
  },
  {
   "cell_type": "code",
   "execution_count": 9,
   "id": "6245d789",
   "metadata": {},
   "outputs": [
    {
     "name": "stdout",
     "output_type": "stream",
     "text": [
      "Los números múltiplos de 10 son: [0, 10, 20, 30, 40, 50, 60, 70, 80, 90, 100]\n"
     ]
    }
   ],
   "source": [
    "#help(range) # LA función help, nos da información de un elemento de Python.\n",
    "\n",
    "lista=[]\n",
    "for i in range(0,101,10): #está en 101 porque el elemento final no se toma\n",
    "    if i%10==0:\n",
    "        lista.append(i)\n",
    "        if i==100:\n",
    "            print(f'Los números múltiplos de 10 son: {lista}')\n",
    "    "
   ]
  },
  {
   "cell_type": "markdown",
   "id": "6f338749",
   "metadata": {},
   "source": [
    "## list(range())\n",
    "Forma fácil de crear listas"
   ]
  },
  {
   "cell_type": "code",
   "execution_count": 15,
   "id": "e36ba78b",
   "metadata": {},
   "outputs": [
    {
     "data": {
      "text/plain": [
       "[-5, -3, -1, 1, 3, 5]"
      ]
     },
     "execution_count": 15,
     "metadata": {},
     "output_type": "execute_result"
    }
   ],
   "source": [
    "list(range(0,6,1))\n",
    "list(range(-5,6,2))"
   ]
  },
  {
   "cell_type": "markdown",
   "id": "11916133",
   "metadata": {},
   "source": [
    "## Enumerate\n",
    "enumera los item de una secuencia, y esa enumeración se puede ajustar. Si no se agregan valores particulares, la enumeración corresponderia al index"
   ]
  },
  {
   "cell_type": "code",
   "execution_count": 37,
   "id": "92dd997e",
   "metadata": {},
   "outputs": [
    {
     "name": "stdout",
     "output_type": "stream",
     "text": [
      "<class 'list'>\n",
      "[(0, 'casa'), (1, 'carro'), (2, 'beca')] (0, 'casa')\n",
      "[(6, 'H'), (7, 'o'), (8, 'l'), (9, 'a'), (10, ' '), (11, 'B'), (12, 'e'), (13, 'l'), (14, 'k'), (15, 'y')]\n"
     ]
    }
   ],
   "source": [
    "lista1=['casa','carro','beca']\n",
    "lista2='Hola Belky'\n",
    "\n",
    "objet1=list(enumerate(lista1)) #Crea una lista de tuplas (enumeración, item)\n",
    "objet2=list(enumerate(lista2,6)) #Crea una lista de tuplas, con la enumeración comenzando en 6\n",
    "\n",
    "print(type(objet1)) #este tipo de dato pertenece a una clase en particular.\n",
    "print(objet1, objet1[0])\n",
    "print( objet2)     "
   ]
  },
  {
   "cell_type": "markdown",
   "id": "50d3e8b4",
   "metadata": {},
   "source": [
    "## zip\n",
    "empareja elementos. No importa las dimensiones de los elementos a emparejar. El emparejamiento siempre se dará con la dimensión del elemento más pequeño."
   ]
  },
  {
   "cell_type": "code",
   "execution_count": 52,
   "id": "cd927a4a",
   "metadata": {},
   "outputs": [
    {
     "name": "stdout",
     "output_type": "stream",
     "text": [
      "('b', 5) <class 'tuple'>\n",
      "('e', 4) <class 'tuple'>\n",
      "('l', 3) <class 'tuple'>\n",
      "('k', 2) <class 'tuple'>\n",
      "('y', 1) <class 'tuple'>\n",
      "------------------------------------------------------------\n",
      "[(5, 'b'), (4, 'e'), (3, 'l'), (2, 'k'), (1, 'y')]\n"
     ]
    }
   ],
   "source": [
    "lista='belky'\n",
    "otral=[5,4,3,2,1]\n",
    "vacia=[]\n",
    "\n",
    "for i in (zip(lista,otral)):\n",
    "    print(i, type(i))\n",
    "    \n",
    "print(60*'-')\n",
    "          \n",
    "for i in (zip(otral,lista)): #Lista de tuplas de emparejamiento\n",
    "    vacia.append(i)\n",
    "    if len(vacia)==len(lista):\n",
    "        print(vacia)"
   ]
  },
  {
   "cell_type": "markdown",
   "id": "13bb844a",
   "metadata": {},
   "source": [
    "##  in\n",
    "ayuda a buscar elementos en alguna secuencia."
   ]
  },
  {
   "cell_type": "code",
   "execution_count": 53,
   "id": "2f70557e",
   "metadata": {},
   "outputs": [
    {
     "name": "stdout",
     "output_type": "stream",
     "text": [
      "Eres programador :)\n"
     ]
    }
   ],
   "source": [
    "cadena='Hola Mundo'\n",
    "\n",
    "if 'Mundo' in cadena:\n",
    "    print('Eres programador :)')"
   ]
  },
  {
   "cell_type": "markdown",
   "id": "b3ff8609",
   "metadata": {},
   "source": [
    "## min and max\n",
    "valores máximos y mínimos de una secuencia"
   ]
  },
  {
   "cell_type": "code",
   "execution_count": 60,
   "id": "1fcfe2c6",
   "metadata": {},
   "outputs": [
    {
     "name": "stdout",
     "output_type": "stream",
     "text": [
      "[0, 1, 2, 3, 4, 5, 6, 7, 8, 9, 10] El valor máximo es 10; Y el valor mínimo es 0\n",
      "b y\n"
     ]
    }
   ],
   "source": [
    "lista=list(range(0,11))\n",
    "print(lista,f'El valor máximo es {max(lista)}; Y el valor mínimo es {min(lista)}')\n",
    "\n",
    "cadena='belky'\n",
    "print(min(cadena),max(cadena)) #También se puede para valores máximos y mínimos de cadenas."
   ]
  },
  {
   "cell_type": "markdown",
   "id": "f99b7026",
   "metadata": {},
   "source": [
    "\n",
    "\n"
   ]
  },
  {
   "cell_type": "markdown",
   "id": "6d826fc3",
   "metadata": {},
   "source": [
    "\n",
    "\n"
   ]
  },
  {
   "cell_type": "markdown",
   "id": "8c5c3143",
   "metadata": {},
   "source": [
    "\n",
    "\n"
   ]
  },
  {
   "cell_type": "markdown",
   "id": "77ae0da2",
   "metadata": {},
   "source": [
    "\n",
    "\n"
   ]
  },
  {
   "cell_type": "markdown",
   "id": "144a1dff",
   "metadata": {},
   "source": [
    "\n",
    "\n"
   ]
  },
  {
   "cell_type": "markdown",
   "id": "13d71a4e",
   "metadata": {},
   "source": [
    "\n",
    "\n"
   ]
  },
  {
   "cell_type": "markdown",
   "id": "91cc5941",
   "metadata": {},
   "source": [
    "\n",
    "\n"
   ]
  },
  {
   "cell_type": "markdown",
   "id": "7d5d00e4",
   "metadata": {},
   "source": [
    "# *Comprehensión de listas*\n",
    "permite crear listas en una sola línea"
   ]
  },
  {
   "cell_type": "code",
   "execution_count": 67,
   "id": "3438d516",
   "metadata": {},
   "outputs": [
    {
     "name": "stdout",
     "output_type": "stream",
     "text": [
      "[0, 2, 4, 6, 8, 10, 12, 14, 16, 18, 20]\n",
      "['b', 'e', 'l', 'k', 'y']\n",
      "[11, 10, 9, 8, 7, 6, 5, 4, 3, 2, 1]\n"
     ]
    }
   ],
   "source": [
    "lista=[]\n",
    "\n",
    "for i in range(0,21,2):\n",
    "    lista.append(i)\n",
    "print(lista)\n",
    "    \n",
    "print([i for i in 'belky']) #Crear una lista con comprehensión de listas. Se podría leer como: el item i-ésimo, será: \n",
    "                            #todo item que aparece en la palabra 'Belky'. Note que se encierra en [], para saber que es una\n",
    "                            #lista\n",
    "s=[i for i in range(11,0,-1)]\n",
    "print(s)"
   ]
  },
  {
   "cell_type": "code",
   "execution_count": 112,
   "id": "aacce002",
   "metadata": {},
   "outputs": [
    {
     "name": "stdout",
     "output_type": "stream",
     "text": [
      "[22500, 45000, 90000, 135000]\n"
     ]
    }
   ],
   "source": [
    "dolares=[5,10,20,30]\n",
    "pesos=[(4500*(i)) for i in dolares] #Los items también pueden ser modificados por medio de una función. En este caso, cada \n",
    "                                    #item de la nueva lista llamada pesos, será 4500 vece los item de la de dólares.\n",
    "lista=[]\n",
    "\n",
    "for i in pesos:\n",
    "    lista.append(i)\n",
    "    if i==pesos[-1]:\n",
    "        print(lista)\n",
    "\n",
    "    "
   ]
  },
  {
   "cell_type": "markdown",
   "id": "2b69b14e",
   "metadata": {},
   "source": [
    "\n",
    "\n"
   ]
  },
  {
   "cell_type": "markdown",
   "id": "84ba7ed0",
   "metadata": {},
   "source": [
    "\n",
    "\n"
   ]
  },
  {
   "cell_type": "markdown",
   "id": "301bbfeb",
   "metadata": {},
   "source": [
    "\n",
    "\n"
   ]
  },
  {
   "cell_type": "markdown",
   "id": "3941c99f",
   "metadata": {},
   "source": [
    "\n",
    "\n"
   ]
  },
  {
   "cell_type": "markdown",
   "id": "9f3ce219",
   "metadata": {},
   "source": [
    "\n",
    "\n"
   ]
  },
  {
   "cell_type": "markdown",
   "id": "88ff0f44",
   "metadata": {},
   "source": [
    "\n",
    "\n"
   ]
  },
  {
   "cell_type": "markdown",
   "id": "2024fd2f",
   "metadata": {},
   "source": [
    "\n",
    "\n"
   ]
  },
  {
   "cell_type": "markdown",
   "id": "c80f6a32",
   "metadata": {},
   "source": [
    "# _FUNCIONES_\n",
    "sirven cuando un bloque de código se repite muchas veces, y solo se cambia el valor de la variable."
   ]
  },
  {
   "cell_type": "code",
   "execution_count": 179,
   "id": "19560fa7",
   "metadata": {},
   "outputs": [
    {
     "name": "stdout",
     "output_type": "stream",
     "text": [
      "['p', 'p', 'a', 'o', 'c', 'l', 'i', 'l', 'e', 'o', 'n', 'c', 'i', 'a']\n"
     ]
    }
   ],
   "source": [
    "def mezclador (x,y):                             #Sintaxis de una función\n",
    "    '''\n",
    "    Documentación: esta función mezcla las letras de dos palabras. \n",
    "    \n",
    "    '''\n",
    "    orden=[]\n",
    "    s=[i for i in x] #convierte en listas las palabras \n",
    "    p=[j for j in y]\n",
    "    \n",
    "    o1=list(enumerate(s)) #arroja una lista cuyos items son tuplas. Un elemento de la tupla es un número, la enumeración\n",
    "                            #y el otro item, es una letra correspondiente  a la palabra.\n",
    "    o2=list(enumerate(p))\n",
    "    \n",
    "    k=o1+o2  #fuciona ambas listas de tuplas.\n",
    "    \n",
    "    k.sort() #ordena la lista, y asocia las palabras con misma enumeración.\n",
    "    #print(k)\n",
    "    \n",
    "    for a,b in k:\n",
    "        orden.append(b) #agrega a la lista vacía las letras (ya ordenadas) asociadas.\n",
    "        if len(orden)==len(k):\n",
    "            print(orden)\n",
    "    \n",
    "        \n",
    "            \n",
    "#x='casa'\n",
    "#y='oros'\n",
    "#mezclador (x,y)\n",
    "\n",
    "mezclador ('pollo', 'paciencia') #forma en como se llama una función."
   ]
  },
  {
   "cell_type": "code",
   "execution_count": 97,
   "id": "73e67e64",
   "metadata": {},
   "outputs": [
    {
     "name": "stdout",
     "output_type": "stream",
     "text": [
      "5!=120\n"
     ]
    }
   ],
   "source": [
    "def factorial(a):\n",
    "    ''' Función que calcula el factorial de un número.\n",
    "    '''\n",
    "    p=int(a)+1\n",
    "    s=[i for i in range(p)]\n",
    "    for i in s:\n",
    "        if i==0:\n",
    "            k=1\n",
    "        else:\n",
    "            k=k*i\n",
    "            if i==s[-1]:\n",
    "                print(f'{a}!={k}')\n",
    "        \n",
    "        \n",
    "    \n",
    "factorial(5)"
   ]
  },
  {
   "cell_type": "markdown",
   "id": "112abb9d",
   "metadata": {},
   "source": [
    "## \\*args, \\**kwargs\n",
    "Las funciones tiene argumentos posicionales:"
   ]
  },
  {
   "cell_type": "code",
   "execution_count": 36,
   "id": "e97397fe",
   "metadata": {},
   "outputs": [
    {
     "name": "stdout",
     "output_type": "stream",
     "text": [
      "3 2\n",
      "************************************************************************************************************************\n",
      "1 2 3 4\n",
      "************************************************************************************************************************\n",
      "0 13\n"
     ]
    }
   ],
   "source": [
    "def algo(a,b): #En la funciones posicionales, se le dice a la función quienes van a ser sus argumentos.\n",
    "    print(a,b)\n",
    "    \n",
    "algo(a=3,b=2)\n",
    "\n",
    "\n",
    "print(120*'*')\n",
    "\n",
    "\n",
    "def mas(a,b,c,d): #Si no se pone nombre en el argumento se asocia cada valor con su posición.\n",
    "    print(a,b,c,d)\n",
    "mas(1,2,3,4)\n",
    "\n",
    "\n",
    "print(120*'*')\n",
    "\n",
    "def sum(a,b):\n",
    "    print(a,b)\n",
    "\n",
    "sum(b=13, a=0)   #Pero también podría tener esta sintaxis\n"
   ]
  },
  {
   "cell_type": "markdown",
   "id": "37ecedbe",
   "metadata": {},
   "source": [
    "## \\*args\n",
    "\n",
    "al poner esa palabra clave dentro del argumento, no se tiene que especificar que argumentos va a tener nuestra función. Retorna una tupla."
   ]
  },
  {
   "cell_type": "code",
   "execution_count": 99,
   "id": "04513f2b",
   "metadata": {},
   "outputs": [
    {
     "name": "stdout",
     "output_type": "stream",
     "text": [
      "(1, 2, 3)\n",
      "\n",
      " \n",
      "\n",
      "21\n",
      "\n",
      " \n",
      "\n"
     ]
    }
   ],
   "source": [
    "def cualquiera(*args): #Aquí no hubo necesidad de decir cuales elementos iban a esttar dentro del argumwnto. Eso es muy bien para\n",
    "                        #cuando no sé que cantidad voy a ocupar.\n",
    "    print(args)\n",
    "    \n",
    "cualquiera(1,2,3)\n",
    "\n",
    "\n",
    "print('\\n \\n')\n",
    "\n",
    "\n",
    "def suma(*args):\n",
    "    '''\n",
    "    Esta función suma todos los números que se ingresan como argumento.\n",
    "    '''\n",
    "    s=[i for i in args]\n",
    "    k=0\n",
    "    for i in s:\n",
    "        k=k+i\n",
    "        if i==s[-1]:\n",
    "            print(k)\n",
    "        \n",
    "        \n",
    "    \n",
    "suma(1,2,3,4,5,6)\n",
    "\n",
    "\n",
    "print('\\n \\n')\n",
    "\n"
   ]
  },
  {
   "cell_type": "markdown",
   "id": "4807df98",
   "metadata": {},
   "source": [
    "## \\**kwargs\n",
    "ó *argumentos nombrados* retorna un diccionario. Por lo tanto no se son iterables."
   ]
  },
  {
   "cell_type": "code",
   "execution_count": 130,
   "id": "94964d27",
   "metadata": {},
   "outputs": [
    {
     "name": "stdout",
     "output_type": "stream",
     "text": [
      "Estos son los valores del diccionario dict_values(['Hola', 'coco'])\n",
      "Estas son las llaves dict_keys(['casa', 'isla'])\n",
      "Estos son los items dict_items([('casa', 'Hola'), ('isla', 'coco')])\n",
      "Y este es el diccionario que se introdujo: {'casa': 'Hola', 'isla': 'coco'}\n"
     ]
    }
   ],
   "source": [
    "def diccionario(**kwargs):\n",
    "    d=kwargs.values()\n",
    "    s=kwargs.keys()\n",
    "    p=kwargs.items()\n",
    "    print(f'Estos son los valores del diccionario {d}')\n",
    "    print(f'Estas son las llaves {s}')\n",
    "    print(f'Estos son los items {p}')\n",
    "    print(f'Y este es el diccionario que se introdujo: {kwargs}')\n",
    "    \n",
    "diccionario(casa='Hola', isla='coco')"
   ]
  },
  {
   "cell_type": "code",
   "execution_count": 135,
   "id": "2249192e",
   "metadata": {},
   "outputs": [
    {
     "name": "stdout",
     "output_type": "stream",
     "text": [
      "Me gustaría 3 Manzana\n"
     ]
    }
   ],
   "source": [
    "def mostrando (*args,**kwargs):\n",
    "    print('Me gustaría {} {}'.format(args[2], kwargs['fruta'])) #Nótese que estos argumentos son geniales para la relación\n",
    "                                                                #artículo, precio.\n",
    "                            #Note la forma de acceder a los argumentos.\n",
    "\n",
    "mostrando(1,2,3, fruta='Manzana', carne='Cerdo', papas='criolla')"
   ]
  },
  {
   "cell_type": "markdown",
   "id": "5262d480",
   "metadata": {},
   "source": [
    "\n",
    "\n",
    "\n",
    "\n"
   ]
  },
  {
   "cell_type": "markdown",
   "id": "b480e411",
   "metadata": {},
   "source": [
    "\n",
    "\n",
    "\n"
   ]
  },
  {
   "cell_type": "markdown",
   "id": "a4049420",
   "metadata": {},
   "source": [
    "\n",
    "\n",
    "\n",
    "\n",
    "\n",
    "\n",
    "\n",
    "\n"
   ]
  },
  {
   "cell_type": "markdown",
   "id": "ea45fb57",
   "metadata": {},
   "source": [
    "\n",
    "\n",
    "\n",
    "\n",
    "\n",
    "\n"
   ]
  },
  {
   "cell_type": "markdown",
   "id": "7a390139",
   "metadata": {},
   "source": [
    "## filter ()\n",
    "Lo que hace esta función es asociar un item de un iterable a una función."
   ]
  },
  {
   "cell_type": "code",
   "execution_count": 177,
   "id": "d17a3e2e",
   "metadata": {},
   "outputs": [
    {
     "name": "stdout",
     "output_type": "stream",
     "text": [
      "Help on class filter in module builtins:\n",
      "\n",
      "class filter(object)\n",
      " |  filter(function or None, iterable) --> filter object\n",
      " |  \n",
      " |  Return an iterator yielding those items of iterable for which function(item)\n",
      " |  is true. If function is None, return the items that are true.\n",
      " |  \n",
      " |  Methods defined here:\n",
      " |  \n",
      " |  __getattribute__(self, name, /)\n",
      " |      Return getattr(self, name).\n",
      " |  \n",
      " |  __iter__(self, /)\n",
      " |      Implement iter(self).\n",
      " |  \n",
      " |  __next__(self, /)\n",
      " |      Implement next(self).\n",
      " |  \n",
      " |  __reduce__(...)\n",
      " |      Return state information for pickling.\n",
      " |  \n",
      " |  ----------------------------------------------------------------------\n",
      " |  Static methods defined here:\n",
      " |  \n",
      " |  __new__(*args, **kwargs) from builtins.type\n",
      " |      Create and return a new object.  See help(type) for accurate signature.\n",
      "\n"
     ]
    }
   ],
   "source": [
    "help(filter)"
   ]
  },
  {
   "cell_type": "code",
   "execution_count": 178,
   "id": "493c51f5",
   "metadata": {},
   "outputs": [
    {
     "name": "stdout",
     "output_type": "stream",
     "text": [
      "[2, 3, 5, 7, 11, 13, 17, 19, 23, 29, 31, 37, 41, 43, 47, 53, 59, 61, 67, 71, 73, 79, 83, 89, 97, 101, 103, 107, 109, 113, 121, 127, 131, 137, 139, 143, 149, 151, 157, 163, 167, 169, 173, 179, 181, 187, 191, 193, 197, 199, 209, 211, 221, 223, 227, 229, 233, 239, 241, 247, 251, 253, 257, 263, 269, 271, 277, 281, 283, 289, 293, 299, 307, 311, 313, 317, 319, 323, 331, 337, 341, 347, 349, 353, 359, 361, 367, 373, 377, 379, 383, 389, 391, 397, 401, 403, 407, 409, 419, 421, 431, 433, 437, 439, 443, 449, 451, 457, 461, 463, 467, 473, 479, 481, 487, 491, 493, 499, 503, 509, 517, 521, 523, 527, 529, 533, 541, 547, 551, 557, 559, 563, 569, 571, 577, 583, 587, 589, 593, 599, 601, 607, 611, 613, 617, 619, 629, 631, 641, 643, 647, 649, 653, 659, 661, 667, 671, 673, 677, 683, 689, 691, 697, 701, 703, 709, 713, 719, 727, 731, 733, 737, 739, 743, 751, 757, 761, 767, 769, 773, 779, 781, 787, 793, 797, 799, 803, 809, 811, 817, 821, 823, 827, 829, 839, 841, 851, 853, 857, 859, 863, 869, 871, 877, 881, 883, 887, 893, 899, 901, 907, 911, 913, 919, 923, 929, 937, 941, 943, 947, 949, 953, 961, 967, 971, 977, 979, 983, 989, 991, 997]\n"
     ]
    }
   ],
   "source": [
    "n=[i for i in range(1001)]\n",
    "\n",
    "def primos(numero):\n",
    "    if numero%2!=0 and numero%3!=0:\n",
    "        if numero%4!=0 and numero%5!=0:\n",
    "            if numero%6!=0 and numero%7!=0:\n",
    "                if numero%8!=0 and numero%9!=0:\n",
    "                    return numero\n",
    "    \n",
    "filter(primos,n)          #Si el número de la lista n, cumple todas las condiciones de la función primos(), entonces, se \n",
    "                            #retorna ese número y crea un iterable, que se manifiesta cuando se le da la orden lista.\n",
    "p=list(filter(primos,n))\n",
    "\n",
    "p.append(2)\n",
    "p.append(3)\n",
    "p.append(5)\n",
    "p.append(7)\n",
    "p.sort()\n",
    "p.remove(1)\n",
    "\n",
    "print(p)"
   ]
  },
  {
   "cell_type": "code",
   "execution_count": 186,
   "id": "2678ea33",
   "metadata": {},
   "outputs": [
    {
     "name": "stdout",
     "output_type": "stream",
     "text": [
      "[5, 10, 50]\n"
     ]
    }
   ],
   "source": [
    "def multiple(numero):    # Primero declaramos una función condicional\n",
    "    if numero % 5 == 0:  # Comprobamos si un numero es múltiple de cinco\n",
    "        return True      # Sólo devolvemos True si lo es\n",
    "\n",
    "numeros = [2, 5, 10, 23, 50, 33]\n",
    "\n",
    "print(list(filter(multiple, numeros)))"
   ]
  },
  {
   "cell_type": "markdown",
   "id": "e247b7f3",
   "metadata": {},
   "source": [
    "## map ()\n",
    "La función map, lo que hace es rellenar una función con determinados valores."
   ]
  },
  {
   "cell_type": "code",
   "execution_count": 187,
   "id": "e4488d29",
   "metadata": {},
   "outputs": [
    {
     "name": "stdout",
     "output_type": "stream",
     "text": [
      "Help on class map in module builtins:\n",
      "\n",
      "class map(object)\n",
      " |  map(func, *iterables) --> map object\n",
      " |  \n",
      " |  Make an iterator that computes the function using arguments from\n",
      " |  each of the iterables.  Stops when the shortest iterable is exhausted.\n",
      " |  \n",
      " |  Methods defined here:\n",
      " |  \n",
      " |  __getattribute__(self, name, /)\n",
      " |      Return getattr(self, name).\n",
      " |  \n",
      " |  __iter__(self, /)\n",
      " |      Implement iter(self).\n",
      " |  \n",
      " |  __next__(self, /)\n",
      " |      Implement next(self).\n",
      " |  \n",
      " |  __reduce__(...)\n",
      " |      Return state information for pickling.\n",
      " |  \n",
      " |  ----------------------------------------------------------------------\n",
      " |  Static methods defined here:\n",
      " |  \n",
      " |  __new__(*args, **kwargs) from builtins.type\n",
      " |      Create and return a new object.  See help(type) for accurate signature.\n",
      "\n"
     ]
    }
   ],
   "source": [
    "help(map)"
   ]
  },
  {
   "cell_type": "code",
   "execution_count": 142,
   "id": "37532b97",
   "metadata": {},
   "outputs": [
    {
     "name": "stdout",
     "output_type": "stream",
     "text": [
      "0\n",
      "1\n",
      "4\n",
      "9\n",
      "16\n",
      "25\n",
      "36\n",
      "49\n",
      "64\n",
      "81\n",
      "100\n"
     ]
    }
   ],
   "source": [
    "nu=[i for i in range(11)]\n",
    "\n",
    "def raizcuadrada(values):\n",
    "    rc=values**2\n",
    "    return rc\n",
    "\n",
    "for i in map(raizcuadrada, nu):\n",
    "    print(i)"
   ]
  },
  {
   "cell_type": "code",
   "execution_count": 17,
   "id": "97a121cf",
   "metadata": {},
   "outputs": [
    {
     "name": "stdout",
     "output_type": "stream",
     "text": [
      "[0, 2, 4, 6, 8, 10, 12, 14, 16, 18, 20, 22, 24, 26, 28, 30]\n"
     ]
    }
   ],
   "source": [
    "x=[i for i in range(16)]\n",
    "\n",
    "def cosa(m):\n",
    "    return m*2\n",
    "\n",
    "s=map(cosa,x)   #Notar que aquí no se le pone argumento en la función\n",
    "\n",
    "print(list(s))"
   ]
  },
  {
   "cell_type": "markdown",
   "id": "f01e2178",
   "metadata": {},
   "source": [
    "\n",
    "\n"
   ]
  },
  {
   "cell_type": "markdown",
   "id": "c01356cd",
   "metadata": {},
   "source": [
    "\n",
    "\n"
   ]
  },
  {
   "cell_type": "markdown",
   "id": "fbb92969",
   "metadata": {},
   "source": [
    "\n",
    "\n",
    "\n"
   ]
  },
  {
   "cell_type": "markdown",
   "id": "c9df6561",
   "metadata": {},
   "source": [
    "\n",
    "\n",
    "\n"
   ]
  },
  {
   "cell_type": "markdown",
   "id": "76f53a74",
   "metadata": {},
   "source": [
    "\n",
    "\n",
    "\n"
   ]
  },
  {
   "cell_type": "markdown",
   "id": "4cfad612",
   "metadata": {},
   "source": [
    "\n",
    "\n",
    "\n"
   ]
  },
  {
   "cell_type": "markdown",
   "id": "67610269",
   "metadata": {},
   "source": [
    "# *Funciones lambda*\n",
    "son la forma de hacer funciones de forma más compacta, así como la comprehensión de listas."
   ]
  },
  {
   "cell_type": "code",
   "execution_count": 27,
   "id": "85b4debf",
   "metadata": {},
   "outputs": [
    {
     "name": "stdout",
     "output_type": "stream",
     "text": [
      "[0, 1, 4, 9, 16, 25, 36, 49, 64, 81, 100, 121, 144, 169, 196, 225, 256, 289, 324, 361, 400]\n"
     ]
    }
   ],
   "source": [
    "x=[i for i in range(21)]\n",
    "\n",
    "cuadrado=lambda n: n**2 #Las funciones lambda tienen esta estructura\n",
    "\n",
    "k=map(cuadrado,x)\n",
    "print(list(k))"
   ]
  },
  {
   "cell_type": "code",
   "execution_count": 35,
   "id": "e8e0e4f9",
   "metadata": {},
   "outputs": [
    {
     "data": {
      "text/plain": [
       "'CASA COLOR CAFE'"
      ]
     },
     "execution_count": 35,
     "metadata": {},
     "output_type": "execute_result"
    }
   ],
   "source": [
    "h='casa color cafe'\n",
    "\n",
    "aumentar=lambda x: x.upper() #Función para poner las palabras en mayúsuculas.\n",
    "\n",
    "aumentar(h)"
   ]
  },
  {
   "cell_type": "markdown",
   "id": "540c05b8",
   "metadata": {},
   "source": [
    "Las funciones lambda son una buena combinación para usarlas con las funciones filter() y map().\n",
    "Esto es util para ahorrar recursos a la hora de programar."
   ]
  },
  {
   "cell_type": "code",
   "execution_count": 41,
   "id": "ff984e0f",
   "metadata": {},
   "outputs": [
    {
     "name": "stdout",
     "output_type": "stream",
     "text": [
      "[-1, 0, 1, 2, 3, 4, 5, 6, 7, 8, 9]\n"
     ]
    }
   ],
   "source": [
    "l=[i for i in range(11)]\n",
    "print(list(map(lambda n:n-1,l)))"
   ]
  },
  {
   "cell_type": "markdown",
   "id": "05377adb",
   "metadata": {},
   "source": [
    "\n",
    "\n",
    "\n"
   ]
  },
  {
   "cell_type": "markdown",
   "id": "8a5bae40",
   "metadata": {},
   "source": [
    "\n",
    "\n",
    "\n"
   ]
  },
  {
   "cell_type": "markdown",
   "id": "830c6baa",
   "metadata": {},
   "source": [
    "\n",
    "\n",
    "\n",
    "\n"
   ]
  },
  {
   "cell_type": "markdown",
   "id": "b55c245c",
   "metadata": {},
   "source": [
    "\n",
    "\n",
    "\n",
    "\n"
   ]
  }
 ],
 "metadata": {
  "kernelspec": {
   "display_name": "Python 3",
   "language": "python",
   "name": "python3"
  },
  "language_info": {
   "codemirror_mode": {
    "name": "ipython",
    "version": 3
   },
   "file_extension": ".py",
   "mimetype": "text/x-python",
   "name": "python",
   "nbconvert_exporter": "python",
   "pygments_lexer": "ipython3",
   "version": "3.8.8"
  },
  "widgets": {
   "application/vnd.jupyter.widget-state+json": {
    "state": {},
    "version_major": 2,
    "version_minor": 0
   }
  }
 },
 "nbformat": 4,
 "nbformat_minor": 5
}
